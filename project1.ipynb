{
 "cells": [
  {
   "cell_type": "markdown",
   "metadata": {
    "pycharm": {
     "name": "#%% md\n"
    }
   },
   "source": [
    "## *Data: Feature extraction, and visualization*"
   ]
  },
  {
   "cell_type": "code",
   "execution_count": 4,
   "metadata": {
    "pycharm": {
     "name": "#%%\n"
    }
   },
   "outputs": [],
   "source": [
    "import matplotlib.pyplot as plt\n",
    "import numpy as np\n",
    "import pandas as pd"
   ]
  },
  {
   "cell_type": "code",
   "execution_count": 15,
   "outputs": [
    {
     "data": {
      "text/plain": "       id                                               name  host_id  \\\n0  334127  Rental unit in Copenhagen · ★4.88 · 1 bedroom ...  1702034   \n1  338928  Rental unit in Copenhagen · ★4.91 · 1 bedroom ...   113348   \n2  338992  Rental unit in Copenhagen · ★4.58 · 2 bedrooms...   799887   \n3    6983  Rental unit in Copenhagen · ★4.78 · 1 bedroom ...    16774   \n4  339126  Rental unit in Copenhagen · ★4.88 · 2 bedrooms...  1589153   \n\n             host_name  neighbourhood_group              neighbourhood  \\\n0                Mette                  NaN  Vesterbro-Kongens Enghave   \n1                 Samy                  NaN                    Nrrebro   \n2                Bente                  NaN  Vesterbro-Kongens Enghave   \n3                Simon                  NaN                    Nrrebro   \n4  Michael & Bille Max                  NaN  Vesterbro-Kongens Enghave   \n\n   latitude  longitude        room_type  price  minimum_nights  \\\n0  55.67059   12.55651  Entire home/apt   1401               4   \n1  55.69388   12.54725  Entire home/apt    793               5   \n2  55.67365   12.55581     Private room   1000               1   \n3  55.68641   12.54741  Entire home/apt    803               3   \n4  55.67284   12.54717  Entire home/apt   2400               2   \n\n   number_of_reviews last_review  reviews_per_month  \\\n0                118  2022-09-11               0.87   \n1                 92  2023-03-22               0.69   \n2                378  2022-09-26               2.75   \n3                173  2023-01-02               1.03   \n4                 77  2023-06-19               0.57   \n\n   calculated_host_listings_count  availability_365  number_of_reviews_ltm  \\\n0                               1                42                      5   \n1                               1                 5                      4   \n2                               3                 0                      2   \n3                               1                 0                      1   \n4                               1               128                     14   \n\n   license  \n0      NaN  \n1      NaN  \n2      NaN  \n3      NaN  \n4      NaN  ",
      "text/html": "<div>\n<style scoped>\n    .dataframe tbody tr th:only-of-type {\n        vertical-align: middle;\n    }\n\n    .dataframe tbody tr th {\n        vertical-align: top;\n    }\n\n    .dataframe thead th {\n        text-align: right;\n    }\n</style>\n<table border=\"1\" class=\"dataframe\">\n  <thead>\n    <tr style=\"text-align: right;\">\n      <th></th>\n      <th>id</th>\n      <th>name</th>\n      <th>host_id</th>\n      <th>host_name</th>\n      <th>neighbourhood_group</th>\n      <th>neighbourhood</th>\n      <th>latitude</th>\n      <th>longitude</th>\n      <th>room_type</th>\n      <th>price</th>\n      <th>minimum_nights</th>\n      <th>number_of_reviews</th>\n      <th>last_review</th>\n      <th>reviews_per_month</th>\n      <th>calculated_host_listings_count</th>\n      <th>availability_365</th>\n      <th>number_of_reviews_ltm</th>\n      <th>license</th>\n    </tr>\n  </thead>\n  <tbody>\n    <tr>\n      <th>0</th>\n      <td>334127</td>\n      <td>Rental unit in Copenhagen · ★4.88 · 1 bedroom ...</td>\n      <td>1702034</td>\n      <td>Mette</td>\n      <td>NaN</td>\n      <td>Vesterbro-Kongens Enghave</td>\n      <td>55.67059</td>\n      <td>12.55651</td>\n      <td>Entire home/apt</td>\n      <td>1401</td>\n      <td>4</td>\n      <td>118</td>\n      <td>2022-09-11</td>\n      <td>0.87</td>\n      <td>1</td>\n      <td>42</td>\n      <td>5</td>\n      <td>NaN</td>\n    </tr>\n    <tr>\n      <th>1</th>\n      <td>338928</td>\n      <td>Rental unit in Copenhagen · ★4.91 · 1 bedroom ...</td>\n      <td>113348</td>\n      <td>Samy</td>\n      <td>NaN</td>\n      <td>Nrrebro</td>\n      <td>55.69388</td>\n      <td>12.54725</td>\n      <td>Entire home/apt</td>\n      <td>793</td>\n      <td>5</td>\n      <td>92</td>\n      <td>2023-03-22</td>\n      <td>0.69</td>\n      <td>1</td>\n      <td>5</td>\n      <td>4</td>\n      <td>NaN</td>\n    </tr>\n    <tr>\n      <th>2</th>\n      <td>338992</td>\n      <td>Rental unit in Copenhagen · ★4.58 · 2 bedrooms...</td>\n      <td>799887</td>\n      <td>Bente</td>\n      <td>NaN</td>\n      <td>Vesterbro-Kongens Enghave</td>\n      <td>55.67365</td>\n      <td>12.55581</td>\n      <td>Private room</td>\n      <td>1000</td>\n      <td>1</td>\n      <td>378</td>\n      <td>2022-09-26</td>\n      <td>2.75</td>\n      <td>3</td>\n      <td>0</td>\n      <td>2</td>\n      <td>NaN</td>\n    </tr>\n    <tr>\n      <th>3</th>\n      <td>6983</td>\n      <td>Rental unit in Copenhagen · ★4.78 · 1 bedroom ...</td>\n      <td>16774</td>\n      <td>Simon</td>\n      <td>NaN</td>\n      <td>Nrrebro</td>\n      <td>55.68641</td>\n      <td>12.54741</td>\n      <td>Entire home/apt</td>\n      <td>803</td>\n      <td>3</td>\n      <td>173</td>\n      <td>2023-01-02</td>\n      <td>1.03</td>\n      <td>1</td>\n      <td>0</td>\n      <td>1</td>\n      <td>NaN</td>\n    </tr>\n    <tr>\n      <th>4</th>\n      <td>339126</td>\n      <td>Rental unit in Copenhagen · ★4.88 · 2 bedrooms...</td>\n      <td>1589153</td>\n      <td>Michael &amp; Bille Max</td>\n      <td>NaN</td>\n      <td>Vesterbro-Kongens Enghave</td>\n      <td>55.67284</td>\n      <td>12.54717</td>\n      <td>Entire home/apt</td>\n      <td>2400</td>\n      <td>2</td>\n      <td>77</td>\n      <td>2023-06-19</td>\n      <td>0.57</td>\n      <td>1</td>\n      <td>128</td>\n      <td>14</td>\n      <td>NaN</td>\n    </tr>\n  </tbody>\n</table>\n</div>"
     },
     "execution_count": 15,
     "metadata": {},
     "output_type": "execute_result"
    }
   ],
   "source": [
    "df=pd.read_csv(\"listings (1).csv\")\n",
    "df.head()"
   ],
   "metadata": {
    "collapsed": false,
    "pycharm": {
     "name": "#%%\n"
    }
   }
  },
  {
   "cell_type": "code",
   "execution_count": 16,
   "outputs": [
    {
     "data": {
      "text/plain": "(17027, 18)"
     },
     "execution_count": 16,
     "metadata": {},
     "output_type": "execute_result"
    }
   ],
   "source": [
    "df.shape"
   ],
   "metadata": {
    "collapsed": false,
    "pycharm": {
     "name": "#%%\n"
    }
   }
  },
  {
   "cell_type": "code",
   "execution_count": 17,
   "outputs": [
    {
     "data": {
      "text/plain": "id                                  int64\nname                               object\nhost_id                             int64\nhost_name                          object\nneighbourhood_group               float64\nneighbourhood                      object\nlatitude                          float64\nlongitude                         float64\nroom_type                          object\nprice                               int64\nminimum_nights                      int64\nnumber_of_reviews                   int64\nlast_review                        object\nreviews_per_month                 float64\ncalculated_host_listings_count      int64\navailability_365                    int64\nnumber_of_reviews_ltm               int64\nlicense                           float64\ndtype: object"
     },
     "execution_count": 17,
     "metadata": {},
     "output_type": "execute_result"
    }
   ],
   "source": [
    "df.dtypes"
   ],
   "metadata": {
    "collapsed": false,
    "pycharm": {
     "name": "#%%\n"
    }
   }
  },
  {
   "cell_type": "code",
   "execution_count": 18,
   "outputs": [],
   "source": [
    "df=df.drop(columns=['neighbourhood_group','license','id','host_id','host_name','calculated_host_listings_count','last_review', 'reviews_per_month', 'number_of_reviews_ltm'])    #drop non-desired columns\n"
   ],
   "metadata": {
    "collapsed": false,
    "pycharm": {
     "name": "#%%\n"
    }
   }
  },
  {
   "cell_type": "code",
   "execution_count": 19,
   "outputs": [
    {
     "data": {
      "text/plain": "                                                    name  \\\n0      Rental unit in Copenhagen · ★4.88 · 1 bedroom ...   \n1      Rental unit in Copenhagen · ★4.91 · 1 bedroom ...   \n2      Rental unit in Copenhagen · ★4.58 · 2 bedrooms...   \n3      Rental unit in Copenhagen · ★4.78 · 1 bedroom ...   \n4      Rental unit in Copenhagen · ★4.88 · 2 bedrooms...   \n...                                                  ...   \n17022  Guest suite in Copenhagen · ★New · 2 bedrooms ...   \n17023  Rental unit in Copenhagen · ★New · 2 bedrooms ...   \n17024  Rental unit in Copenhagen · ★New · 1 bedroom ·...   \n17025  Rental unit in Frederiksberg · ★New · 1 bedroo...   \n17026  Rental unit in Copenhagen · ★New · 1 bedroom ·...   \n\n                   neighbourhood   latitude  longitude        room_type  \\\n0      Vesterbro-Kongens Enghave  55.670590  12.556510  Entire home/apt   \n1                        Nrrebro  55.693880  12.547250  Entire home/apt   \n2      Vesterbro-Kongens Enghave  55.673650  12.555810     Private room   \n3                        Nrrebro  55.686410  12.547410  Entire home/apt   \n4      Vesterbro-Kongens Enghave  55.672840  12.547170  Entire home/apt   \n...                          ...        ...        ...              ...   \n17022                  Amager st  55.645392  12.633822  Entire home/apt   \n17023                Amager Vest  55.666826  12.581515  Entire home/apt   \n17024                    sterbro  55.710625  12.571924  Entire home/apt   \n17025              Frederiksberg  55.693516  12.535378  Entire home/apt   \n17026  Vesterbro-Kongens Enghave  55.671265  12.561190  Entire home/apt   \n\n       price  minimum_nights  number_of_reviews  availability_365  \n0       1401               4                118                42  \n1        793               5                 92                 5  \n2       1000               1                378                 0  \n3        803               3                173                 0  \n4       2400               2                 77               128  \n...      ...             ...                ...               ...  \n17022   1260               1                  0               362  \n17023   1600               4                  0                54  \n17024    408               1                  0               239  \n17025    950               5                  0                16  \n17026    995               3                  0               359  \n\n[17027 rows x 9 columns]",
      "text/html": "<div>\n<style scoped>\n    .dataframe tbody tr th:only-of-type {\n        vertical-align: middle;\n    }\n\n    .dataframe tbody tr th {\n        vertical-align: top;\n    }\n\n    .dataframe thead th {\n        text-align: right;\n    }\n</style>\n<table border=\"1\" class=\"dataframe\">\n  <thead>\n    <tr style=\"text-align: right;\">\n      <th></th>\n      <th>name</th>\n      <th>neighbourhood</th>\n      <th>latitude</th>\n      <th>longitude</th>\n      <th>room_type</th>\n      <th>price</th>\n      <th>minimum_nights</th>\n      <th>number_of_reviews</th>\n      <th>availability_365</th>\n    </tr>\n  </thead>\n  <tbody>\n    <tr>\n      <th>0</th>\n      <td>Rental unit in Copenhagen · ★4.88 · 1 bedroom ...</td>\n      <td>Vesterbro-Kongens Enghave</td>\n      <td>55.670590</td>\n      <td>12.556510</td>\n      <td>Entire home/apt</td>\n      <td>1401</td>\n      <td>4</td>\n      <td>118</td>\n      <td>42</td>\n    </tr>\n    <tr>\n      <th>1</th>\n      <td>Rental unit in Copenhagen · ★4.91 · 1 bedroom ...</td>\n      <td>Nrrebro</td>\n      <td>55.693880</td>\n      <td>12.547250</td>\n      <td>Entire home/apt</td>\n      <td>793</td>\n      <td>5</td>\n      <td>92</td>\n      <td>5</td>\n    </tr>\n    <tr>\n      <th>2</th>\n      <td>Rental unit in Copenhagen · ★4.58 · 2 bedrooms...</td>\n      <td>Vesterbro-Kongens Enghave</td>\n      <td>55.673650</td>\n      <td>12.555810</td>\n      <td>Private room</td>\n      <td>1000</td>\n      <td>1</td>\n      <td>378</td>\n      <td>0</td>\n    </tr>\n    <tr>\n      <th>3</th>\n      <td>Rental unit in Copenhagen · ★4.78 · 1 bedroom ...</td>\n      <td>Nrrebro</td>\n      <td>55.686410</td>\n      <td>12.547410</td>\n      <td>Entire home/apt</td>\n      <td>803</td>\n      <td>3</td>\n      <td>173</td>\n      <td>0</td>\n    </tr>\n    <tr>\n      <th>4</th>\n      <td>Rental unit in Copenhagen · ★4.88 · 2 bedrooms...</td>\n      <td>Vesterbro-Kongens Enghave</td>\n      <td>55.672840</td>\n      <td>12.547170</td>\n      <td>Entire home/apt</td>\n      <td>2400</td>\n      <td>2</td>\n      <td>77</td>\n      <td>128</td>\n    </tr>\n    <tr>\n      <th>...</th>\n      <td>...</td>\n      <td>...</td>\n      <td>...</td>\n      <td>...</td>\n      <td>...</td>\n      <td>...</td>\n      <td>...</td>\n      <td>...</td>\n      <td>...</td>\n    </tr>\n    <tr>\n      <th>17022</th>\n      <td>Guest suite in Copenhagen · ★New · 2 bedrooms ...</td>\n      <td>Amager st</td>\n      <td>55.645392</td>\n      <td>12.633822</td>\n      <td>Entire home/apt</td>\n      <td>1260</td>\n      <td>1</td>\n      <td>0</td>\n      <td>362</td>\n    </tr>\n    <tr>\n      <th>17023</th>\n      <td>Rental unit in Copenhagen · ★New · 2 bedrooms ...</td>\n      <td>Amager Vest</td>\n      <td>55.666826</td>\n      <td>12.581515</td>\n      <td>Entire home/apt</td>\n      <td>1600</td>\n      <td>4</td>\n      <td>0</td>\n      <td>54</td>\n    </tr>\n    <tr>\n      <th>17024</th>\n      <td>Rental unit in Copenhagen · ★New · 1 bedroom ·...</td>\n      <td>sterbro</td>\n      <td>55.710625</td>\n      <td>12.571924</td>\n      <td>Entire home/apt</td>\n      <td>408</td>\n      <td>1</td>\n      <td>0</td>\n      <td>239</td>\n    </tr>\n    <tr>\n      <th>17025</th>\n      <td>Rental unit in Frederiksberg · ★New · 1 bedroo...</td>\n      <td>Frederiksberg</td>\n      <td>55.693516</td>\n      <td>12.535378</td>\n      <td>Entire home/apt</td>\n      <td>950</td>\n      <td>5</td>\n      <td>0</td>\n      <td>16</td>\n    </tr>\n    <tr>\n      <th>17026</th>\n      <td>Rental unit in Copenhagen · ★New · 1 bedroom ·...</td>\n      <td>Vesterbro-Kongens Enghave</td>\n      <td>55.671265</td>\n      <td>12.561190</td>\n      <td>Entire home/apt</td>\n      <td>995</td>\n      <td>3</td>\n      <td>0</td>\n      <td>359</td>\n    </tr>\n  </tbody>\n</table>\n<p>17027 rows × 9 columns</p>\n</div>"
     },
     "execution_count": 19,
     "metadata": {},
     "output_type": "execute_result"
    }
   ],
   "source": [
    "df"
   ],
   "metadata": {
    "collapsed": false,
    "pycharm": {
     "name": "#%%\n"
    }
   }
  },
  {
   "cell_type": "code",
   "execution_count": null,
   "outputs": [],
   "source": [
    "#I think that we should separate name column, and then perform statistics, but I'll add summary statistics code anyway"
   ],
   "metadata": {
    "collapsed": false,
    "pycharm": {
     "name": "#%%\n"
    }
   }
  },
  {
   "cell_type": "code",
   "execution_count": 21,
   "outputs": [
    {
     "name": "stdout",
     "output_type": "stream",
     "text": [
      "               price  minimum_nights  number_of_reviews  availability_365\n",
      "count   17027.000000    17027.000000       17027.000000      17027.000000\n",
      "mean     1261.054149        4.506196          17.445175         85.985083\n",
      "std      1868.683966       15.433537          39.016123        115.196636\n",
      "min         0.000000        1.000000           0.000000          0.000000\n",
      "25%       799.000000        2.000000           1.000000          0.000000\n",
      "50%      1000.000000        3.000000           6.000000         18.000000\n",
      "75%      1401.000000        4.000000          18.000000        160.000000\n",
      "max    150364.000000     1111.000000        1178.000000        365.000000\n"
     ]
    }
   ],
   "source": [
    "#Also I let's add  Rating from the name column once it's split up\n",
    "print(df[['price','minimum_nights','number_of_reviews','availability_365']].describe())"
   ],
   "metadata": {
    "collapsed": false,
    "pycharm": {
     "name": "#%%\n"
    }
   }
  },
  {
   "cell_type": "code",
   "execution_count": 29,
   "outputs": [
    {
     "name": "stdout",
     "output_type": "stream",
     "text": [
      "Column has no missing values. Returning 0.\n"
     ]
    }
   ],
   "source": [
    "#If we're missing values in one of these 9 filtered columns, we remove that row..\n",
    "if df['price'].isna().any():\n",
    "    print(f\"Column has missing values.\")\n",
    "else:\n",
    "    print(f\"Column has no missing values. Returning 0.\")"
   ],
   "metadata": {
    "collapsed": false,
    "pycharm": {
     "name": "#%%\n"
    }
   }
  }
 ],
 "metadata": {
  "kernelspec": {
   "name": "conda-env-anaconda3-py",
   "language": "python",
   "display_name": "Python [conda env:anaconda3]"
  },
  "language_info": {
   "codemirror_mode": {
    "name": "ipython",
    "version": 3
   },
   "file_extension": ".py",
   "mimetype": "text/x-python",
   "name": "python",
   "nbconvert_exporter": "python",
   "pygments_lexer": "ipython3",
   "version": "3.10.12"
  },
  "orig_nbformat": 4
 },
 "nbformat": 4,
 "nbformat_minor": 2
}