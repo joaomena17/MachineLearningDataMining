{
 "cells": [
  {
   "cell_type": "markdown",
   "metadata": {
    "pycharm": {
     "name": "#%% md\n"
    }
   },
   "source": [
    "## *Data: Feature extraction, and visualization*"
   ]
  },
  {
   "cell_type": "code",
   "execution_count": 15,
   "metadata": {
    "pycharm": {
     "name": "#%%\n"
    }
   },
   "outputs": [],
   "source": [
    "import matplotlib.pyplot as plt\n",
    "import numpy as np\n",
    "import pandas as pd\n",
    "import seaborn as sb"
   ]
  },
  {
   "cell_type": "code",
   "execution_count": 16,
   "metadata": {
    "collapsed": false,
    "pycharm": {
     "name": "#%%\n"
    }
   },
   "outputs": [
    {
     "data": {
      "text/html": [
       "<div>\n",
       "<style scoped>\n",
       "    .dataframe tbody tr th:only-of-type {\n",
       "        vertical-align: middle;\n",
       "    }\n",
       "\n",
       "    .dataframe tbody tr th {\n",
       "        vertical-align: top;\n",
       "    }\n",
       "\n",
       "    .dataframe thead th {\n",
       "        text-align: right;\n",
       "    }\n",
       "</style>\n",
       "<table border=\"1\" class=\"dataframe\">\n",
       "  <thead>\n",
       "    <tr style=\"text-align: right;\">\n",
       "      <th></th>\n",
       "      <th>id</th>\n",
       "      <th>name</th>\n",
       "      <th>host_id</th>\n",
       "      <th>host_name</th>\n",
       "      <th>neighbourhood_group</th>\n",
       "      <th>neighbourhood</th>\n",
       "      <th>latitude</th>\n",
       "      <th>longitude</th>\n",
       "      <th>room_type</th>\n",
       "      <th>price</th>\n",
       "      <th>minimum_nights</th>\n",
       "      <th>number_of_reviews</th>\n",
       "      <th>last_review</th>\n",
       "      <th>reviews_per_month</th>\n",
       "      <th>calculated_host_listings_count</th>\n",
       "      <th>availability_365</th>\n",
       "      <th>number_of_reviews_ltm</th>\n",
       "      <th>license</th>\n",
       "    </tr>\n",
       "  </thead>\n",
       "  <tbody>\n",
       "    <tr>\n",
       "      <th>0</th>\n",
       "      <td>334127</td>\n",
       "      <td>Rental unit in Copenhagen · ★4.88 · 1 bedroom ...</td>\n",
       "      <td>1702034</td>\n",
       "      <td>Mette</td>\n",
       "      <td>NaN</td>\n",
       "      <td>Vesterbro-Kongens Enghave</td>\n",
       "      <td>55.67059</td>\n",
       "      <td>12.55651</td>\n",
       "      <td>Entire home/apt</td>\n",
       "      <td>1401</td>\n",
       "      <td>4</td>\n",
       "      <td>118</td>\n",
       "      <td>2022-09-11</td>\n",
       "      <td>0.87</td>\n",
       "      <td>1</td>\n",
       "      <td>42</td>\n",
       "      <td>5</td>\n",
       "      <td>NaN</td>\n",
       "    </tr>\n",
       "    <tr>\n",
       "      <th>1</th>\n",
       "      <td>338928</td>\n",
       "      <td>Rental unit in Copenhagen · ★4.91 · 1 bedroom ...</td>\n",
       "      <td>113348</td>\n",
       "      <td>Samy</td>\n",
       "      <td>NaN</td>\n",
       "      <td>Nrrebro</td>\n",
       "      <td>55.69388</td>\n",
       "      <td>12.54725</td>\n",
       "      <td>Entire home/apt</td>\n",
       "      <td>793</td>\n",
       "      <td>5</td>\n",
       "      <td>92</td>\n",
       "      <td>2023-03-22</td>\n",
       "      <td>0.69</td>\n",
       "      <td>1</td>\n",
       "      <td>5</td>\n",
       "      <td>4</td>\n",
       "      <td>NaN</td>\n",
       "    </tr>\n",
       "    <tr>\n",
       "      <th>2</th>\n",
       "      <td>338992</td>\n",
       "      <td>Rental unit in Copenhagen · ★4.58 · 2 bedrooms...</td>\n",
       "      <td>799887</td>\n",
       "      <td>Bente</td>\n",
       "      <td>NaN</td>\n",
       "      <td>Vesterbro-Kongens Enghave</td>\n",
       "      <td>55.67365</td>\n",
       "      <td>12.55581</td>\n",
       "      <td>Private room</td>\n",
       "      <td>1000</td>\n",
       "      <td>1</td>\n",
       "      <td>378</td>\n",
       "      <td>2022-09-26</td>\n",
       "      <td>2.75</td>\n",
       "      <td>3</td>\n",
       "      <td>0</td>\n",
       "      <td>2</td>\n",
       "      <td>NaN</td>\n",
       "    </tr>\n",
       "    <tr>\n",
       "      <th>3</th>\n",
       "      <td>6983</td>\n",
       "      <td>Rental unit in Copenhagen · ★4.78 · 1 bedroom ...</td>\n",
       "      <td>16774</td>\n",
       "      <td>Simon</td>\n",
       "      <td>NaN</td>\n",
       "      <td>Nrrebro</td>\n",
       "      <td>55.68641</td>\n",
       "      <td>12.54741</td>\n",
       "      <td>Entire home/apt</td>\n",
       "      <td>803</td>\n",
       "      <td>3</td>\n",
       "      <td>173</td>\n",
       "      <td>2023-01-02</td>\n",
       "      <td>1.03</td>\n",
       "      <td>1</td>\n",
       "      <td>0</td>\n",
       "      <td>1</td>\n",
       "      <td>NaN</td>\n",
       "    </tr>\n",
       "    <tr>\n",
       "      <th>4</th>\n",
       "      <td>339126</td>\n",
       "      <td>Rental unit in Copenhagen · ★4.88 · 2 bedrooms...</td>\n",
       "      <td>1589153</td>\n",
       "      <td>Michael &amp; Bille Max</td>\n",
       "      <td>NaN</td>\n",
       "      <td>Vesterbro-Kongens Enghave</td>\n",
       "      <td>55.67284</td>\n",
       "      <td>12.54717</td>\n",
       "      <td>Entire home/apt</td>\n",
       "      <td>2400</td>\n",
       "      <td>2</td>\n",
       "      <td>77</td>\n",
       "      <td>2023-06-19</td>\n",
       "      <td>0.57</td>\n",
       "      <td>1</td>\n",
       "      <td>128</td>\n",
       "      <td>14</td>\n",
       "      <td>NaN</td>\n",
       "    </tr>\n",
       "  </tbody>\n",
       "</table>\n",
       "</div>"
      ],
      "text/plain": [
       "       id                                               name  host_id   \n",
       "0  334127  Rental unit in Copenhagen · ★4.88 · 1 bedroom ...  1702034  \\\n",
       "1  338928  Rental unit in Copenhagen · ★4.91 · 1 bedroom ...   113348   \n",
       "2  338992  Rental unit in Copenhagen · ★4.58 · 2 bedrooms...   799887   \n",
       "3    6983  Rental unit in Copenhagen · ★4.78 · 1 bedroom ...    16774   \n",
       "4  339126  Rental unit in Copenhagen · ★4.88 · 2 bedrooms...  1589153   \n",
       "\n",
       "             host_name  neighbourhood_group              neighbourhood   \n",
       "0                Mette                  NaN  Vesterbro-Kongens Enghave  \\\n",
       "1                 Samy                  NaN                    Nrrebro   \n",
       "2                Bente                  NaN  Vesterbro-Kongens Enghave   \n",
       "3                Simon                  NaN                    Nrrebro   \n",
       "4  Michael & Bille Max                  NaN  Vesterbro-Kongens Enghave   \n",
       "\n",
       "   latitude  longitude        room_type  price  minimum_nights   \n",
       "0  55.67059   12.55651  Entire home/apt   1401               4  \\\n",
       "1  55.69388   12.54725  Entire home/apt    793               5   \n",
       "2  55.67365   12.55581     Private room   1000               1   \n",
       "3  55.68641   12.54741  Entire home/apt    803               3   \n",
       "4  55.67284   12.54717  Entire home/apt   2400               2   \n",
       "\n",
       "   number_of_reviews last_review  reviews_per_month   \n",
       "0                118  2022-09-11               0.87  \\\n",
       "1                 92  2023-03-22               0.69   \n",
       "2                378  2022-09-26               2.75   \n",
       "3                173  2023-01-02               1.03   \n",
       "4                 77  2023-06-19               0.57   \n",
       "\n",
       "   calculated_host_listings_count  availability_365  number_of_reviews_ltm   \n",
       "0                               1                42                      5  \\\n",
       "1                               1                 5                      4   \n",
       "2                               3                 0                      2   \n",
       "3                               1                 0                      1   \n",
       "4                               1               128                     14   \n",
       "\n",
       "   license  \n",
       "0      NaN  \n",
       "1      NaN  \n",
       "2      NaN  \n",
       "3      NaN  \n",
       "4      NaN  "
      ]
     },
     "execution_count": 16,
     "metadata": {},
     "output_type": "execute_result"
    }
   ],
   "source": [
    "df=pd.read_csv(\"listings.csv\")\n",
    "df.head()"
   ]
  },
  {
   "cell_type": "code",
   "execution_count": 17,
   "metadata": {
    "collapsed": false,
    "pycharm": {
     "name": "#%%\n"
    }
   },
   "outputs": [
    {
     "data": {
      "text/plain": [
       "(17027, 18)"
      ]
     },
     "execution_count": 17,
     "metadata": {},
     "output_type": "execute_result"
    }
   ],
   "source": [
    "df.shape"
   ]
  },
  {
   "cell_type": "code",
   "execution_count": 18,
   "metadata": {
    "collapsed": false,
    "pycharm": {
     "name": "#%%\n"
    }
   },
   "outputs": [
    {
     "data": {
      "text/plain": [
       "id                                  int64\n",
       "name                               object\n",
       "host_id                             int64\n",
       "host_name                          object\n",
       "neighbourhood_group               float64\n",
       "neighbourhood                      object\n",
       "latitude                          float64\n",
       "longitude                         float64\n",
       "room_type                          object\n",
       "price                               int64\n",
       "minimum_nights                      int64\n",
       "number_of_reviews                   int64\n",
       "last_review                        object\n",
       "reviews_per_month                 float64\n",
       "calculated_host_listings_count      int64\n",
       "availability_365                    int64\n",
       "number_of_reviews_ltm               int64\n",
       "license                           float64\n",
       "dtype: object"
      ]
     },
     "execution_count": 18,
     "metadata": {},
     "output_type": "execute_result"
    }
   ],
   "source": [
    "df.dtypes"
   ]
  },
  {
   "cell_type": "code",
   "execution_count": 19,
   "metadata": {
    "collapsed": false,
    "pycharm": {
     "name": "#%%\n"
    }
   },
   "outputs": [],
   "source": [
    "df=df.drop(columns=['neighbourhood_group','license','id','host_id','host_name','calculated_host_listings_count','last_review', 'reviews_per_month', 'number_of_reviews_ltm'])    #drop non-desired columns"
   ]
  },
  {
   "cell_type": "markdown",
   "metadata": {
    "collapsed": false,
    "pycharm": {
     "name": "#%%\n"
    }
   },
   "source": [
    "Here we perform data parsing for column 'name', transforming it into 'type,rating,bed,bedroom,bath' columns. Also, we make sure that datatypes for newly created columns are correct."
   ]
  },
  {
   "cell_type": "code",
   "execution_count": 21,
   "metadata": {},
   "outputs": [],
   "source": [
    "#extract the information/datatype from the 'name' column\n",
    "df['type'] = df['name'].str.extract(r'^(.*?)\\s*[\\d.]+')\n",
    "#extract the rating and convert to numeric\n",
    "rating_format1 = df['name'].str.extract(r'(\\d+\\.\\d+)')  #rating format \"x.x\"\n",
    "rating_format2 = df['name'].str.extract(r'(\\d+\\.\\d+)\\/')  #rating format \"x.x/\"\n",
    "df['rating'] = pd.to_numeric(rating_format1.fillna(rating_format2)[0], errors='coerce')\n",
    "#extract the num of bed,bedrooms, baths\n",
    "df['bedroom'] = df['name'].str.extract(r'(\\d+)\\s+bedroom')  # Extracts the number of bedrooms\n",
    "df['bed'] = df['name'].str.extract(r'(\\d+)\\s+bed')  # Extracts the number of beds\n",
    "df['bath'] = df['name'].str.extract(r'(\\d+)\\s+bath')  # Extracts the number of baths\n",
    "#convert the columns to the appropriate data types (int - since it's num of bed,bedrooms, baths)\n",
    "df['bedroom'] = pd.to_numeric(df['bedroom'], errors='coerce')\n",
    "df['bed'] = pd.to_numeric(df['bed'], errors='coerce')\n",
    "df['bath'] = pd.to_numeric(df['bath'], errors='coerce')\n",
    "#drop 'name' column\n",
    "df.drop(columns=['name'], inplace=True)"
   ]
  },
  {
   "cell_type": "code",
   "execution_count": 24,
   "metadata": {
    "collapsed": false,
    "pycharm": {
     "name": "#%%\n"
    }
   },
   "outputs": [
    {
     "name": "stdout",
     "output_type": "stream",
     "text": [
      "Column has no missing values.\n"
     ]
    }
   ],
   "source": [
    "#If we're missing values in one of these 9 filtered columns, we remove that row..\n",
    "if df['price'].isna().any():\n",
    "    print(f\"Column has missing values.\")\n",
    "else:\n",
    "    print(f\"Column has no missing values.\")"
   ]
  },
  {
   "cell_type": "code",
   "execution_count": 27,
   "metadata": {},
   "outputs": [
    {
     "data": {
      "text/html": [
       "<div>\n",
       "<style scoped>\n",
       "    .dataframe tbody tr th:only-of-type {\n",
       "        vertical-align: middle;\n",
       "    }\n",
       "\n",
       "    .dataframe tbody tr th {\n",
       "        vertical-align: top;\n",
       "    }\n",
       "\n",
       "    .dataframe thead th {\n",
       "        text-align: right;\n",
       "    }\n",
       "</style>\n",
       "<table border=\"1\" class=\"dataframe\">\n",
       "  <thead>\n",
       "    <tr style=\"text-align: right;\">\n",
       "      <th></th>\n",
       "      <th>neighbourhood</th>\n",
       "      <th>latitude</th>\n",
       "      <th>longitude</th>\n",
       "      <th>room_type</th>\n",
       "      <th>price</th>\n",
       "      <th>minimum_nights</th>\n",
       "      <th>number_of_reviews</th>\n",
       "      <th>availability_365</th>\n",
       "      <th>type</th>\n",
       "      <th>rating</th>\n",
       "      <th>bedroom</th>\n",
       "      <th>bed</th>\n",
       "      <th>bath</th>\n",
       "    </tr>\n",
       "  </thead>\n",
       "  <tbody>\n",
       "    <tr>\n",
       "      <th>0</th>\n",
       "      <td>Vesterbro-Kongens Enghave</td>\n",
       "      <td>55.67059</td>\n",
       "      <td>12.55651</td>\n",
       "      <td>Entire home/apt</td>\n",
       "      <td>1401</td>\n",
       "      <td>4</td>\n",
       "      <td>118</td>\n",
       "      <td>42</td>\n",
       "      <td>Rental unit in Copenhagen · ★</td>\n",
       "      <td>4.88</td>\n",
       "      <td>1.0</td>\n",
       "      <td>1.0</td>\n",
       "      <td>1.0</td>\n",
       "    </tr>\n",
       "    <tr>\n",
       "      <th>1</th>\n",
       "      <td>Nrrebro</td>\n",
       "      <td>55.69388</td>\n",
       "      <td>12.54725</td>\n",
       "      <td>Entire home/apt</td>\n",
       "      <td>793</td>\n",
       "      <td>5</td>\n",
       "      <td>92</td>\n",
       "      <td>5</td>\n",
       "      <td>Rental unit in Copenhagen · ★</td>\n",
       "      <td>4.91</td>\n",
       "      <td>1.0</td>\n",
       "      <td>1.0</td>\n",
       "      <td>1.0</td>\n",
       "    </tr>\n",
       "    <tr>\n",
       "      <th>2</th>\n",
       "      <td>Vesterbro-Kongens Enghave</td>\n",
       "      <td>55.67365</td>\n",
       "      <td>12.55581</td>\n",
       "      <td>Private room</td>\n",
       "      <td>1000</td>\n",
       "      <td>1</td>\n",
       "      <td>378</td>\n",
       "      <td>0</td>\n",
       "      <td>Rental unit in Copenhagen · ★</td>\n",
       "      <td>4.58</td>\n",
       "      <td>2.0</td>\n",
       "      <td>2.0</td>\n",
       "      <td>NaN</td>\n",
       "    </tr>\n",
       "    <tr>\n",
       "      <th>3</th>\n",
       "      <td>Nrrebro</td>\n",
       "      <td>55.68641</td>\n",
       "      <td>12.54741</td>\n",
       "      <td>Entire home/apt</td>\n",
       "      <td>803</td>\n",
       "      <td>3</td>\n",
       "      <td>173</td>\n",
       "      <td>0</td>\n",
       "      <td>Rental unit in Copenhagen · ★</td>\n",
       "      <td>4.78</td>\n",
       "      <td>1.0</td>\n",
       "      <td>1.0</td>\n",
       "      <td>1.0</td>\n",
       "    </tr>\n",
       "    <tr>\n",
       "      <th>4</th>\n",
       "      <td>Vesterbro-Kongens Enghave</td>\n",
       "      <td>55.67284</td>\n",
       "      <td>12.54717</td>\n",
       "      <td>Entire home/apt</td>\n",
       "      <td>2400</td>\n",
       "      <td>2</td>\n",
       "      <td>77</td>\n",
       "      <td>128</td>\n",
       "      <td>Rental unit in Copenhagen · ★</td>\n",
       "      <td>4.88</td>\n",
       "      <td>2.0</td>\n",
       "      <td>2.0</td>\n",
       "      <td>5.0</td>\n",
       "    </tr>\n",
       "  </tbody>\n",
       "</table>\n",
       "</div>"
      ],
      "text/plain": [
       "               neighbourhood  latitude  longitude        room_type  price   \n",
       "0  Vesterbro-Kongens Enghave  55.67059   12.55651  Entire home/apt   1401  \\\n",
       "1                    Nrrebro  55.69388   12.54725  Entire home/apt    793   \n",
       "2  Vesterbro-Kongens Enghave  55.67365   12.55581     Private room   1000   \n",
       "3                    Nrrebro  55.68641   12.54741  Entire home/apt    803   \n",
       "4  Vesterbro-Kongens Enghave  55.67284   12.54717  Entire home/apt   2400   \n",
       "\n",
       "   minimum_nights  number_of_reviews  availability_365   \n",
       "0               4                118                42  \\\n",
       "1               5                 92                 5   \n",
       "2               1                378                 0   \n",
       "3               3                173                 0   \n",
       "4               2                 77               128   \n",
       "\n",
       "                            type  rating  bedroom  bed  bath  \n",
       "0  Rental unit in Copenhagen · ★    4.88      1.0  1.0   1.0  \n",
       "1  Rental unit in Copenhagen · ★    4.91      1.0  1.0   1.0  \n",
       "2  Rental unit in Copenhagen · ★    4.58      2.0  2.0   NaN  \n",
       "3  Rental unit in Copenhagen · ★    4.78      1.0  1.0   1.0  \n",
       "4  Rental unit in Copenhagen · ★    4.88      2.0  2.0   5.0  "
      ]
     },
     "execution_count": 27,
     "metadata": {},
     "output_type": "execute_result"
    }
   ],
   "source": [
    "# Our dataset looks like this now;\n",
    "df.head()"
   ]
  },
  {
   "cell_type": "markdown",
   "metadata": {},
   "source": [
    "Pearson correlation heatmap, to investigate the connection of price with other attributes:"
   ]
  },
  {
   "cell_type": "code",
   "execution_count": 26,
   "metadata": {},
   "outputs": [
    {
     "data": {
      "image/png": "[encoded data removed]",
      "text/plain": [
       "<Figure size 1080x576 with 2 Axes>"
      ]
     },
     "metadata": {
      "needs_background": "light"
     },
     "output_type": "display_data"
    }
   ],
   "source": [
    "df_cor=df[['price','minimum_nights','number_of_reviews','availability_365','rating','bedroom','bed','bath']]\n",
    "plt.figure(figsize=(15,8))\n",
    "sb.heatmap(df_cor.corr(method=\"pearson\"), annot=True, annot_kws={\"size\":10})\n",
    "plt.show()"
   ]
  }
 ],
 "metadata": {
  "kernelspec": {
   "display_name": "mldm",
   "language": "python",
   "name": "python3"
  },
  "language_info": {
   "codemirror_mode": {
    "name": "ipython",
    "version": 3
   },
   "file_extension": ".py",
   "mimetype": "text/x-python",
   "name": "python",
   "nbconvert_exporter": "python",
   "pygments_lexer": "ipython3",
   "version": "3.10.12"
  },
  "orig_nbformat": 4
 },
 "nbformat": 4,
 "nbformat_minor": 2
}
